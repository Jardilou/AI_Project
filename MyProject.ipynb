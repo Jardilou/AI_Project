{
 "cells": [
  {
   "cell_type": "markdown",
   "id": "376dc41d",
   "metadata": {},
   "source": [
    "## League of Legends Project\n"
   ]
  },
  {
   "cell_type": "markdown",
   "id": "7568e29f",
   "metadata": {},
   "source": [
    "### 3 Missions were assigned for this project : \n",
    "1. Determine, based on in-game statistics of a single player, whether their team won or lost the match.\n",
    "2. Identify the most important quantifiable variables that players should focus on to increase their chances\n",
    "of winning.\n",
    "3. Determine the most ”talented” players Ecamania could recruit for the next season."
   ]
  },
  {
   "cell_type": "markdown",
   "id": "31b494d7",
   "metadata": {},
   "source": [
    "Logically, the first step is to load the data and check its structure."
   ]
  },
  {
   "cell_type": "code",
   "execution_count": 46,
   "id": "1ca9fdc2",
   "metadata": {},
   "outputs": [
    {
     "name": "stderr",
     "output_type": "stream",
     "text": [
      "<>:3: SyntaxWarning: invalid escape sequence '\\g'\n",
      "<>:3: SyntaxWarning: invalid escape sequence '\\g'\n",
      "C:\\Users\\jardi\\AppData\\Local\\Temp\\ipykernel_10052\\2204259000.py:3: SyntaxWarning: invalid escape sequence '\\g'\n",
      "  LoL_players_file_path = 'data\\game_players_stats.csv'\n"
     ]
    },
    {
     "data": {
      "text/plain": [
       "374554"
      ]
     },
     "execution_count": 46,
     "metadata": {},
     "output_type": "execute_result"
    }
   ],
   "source": [
    "\n",
    "\n",
    "import pandas as pd\n",
    "\n",
    "LoL_players_file_path = 'data\\game_players_stats.csv'\n",
    "LoL_players_data = pd.read_csv(LoL_players_file_path) \n",
    "LoL_players_data.columns\n",
    "LoL_players_data['game_id'].count()"
   ]
  },
  {
   "cell_type": "markdown",
   "id": "a48e1006",
   "metadata": {},
   "source": [
    "First we will drop the data where some rows are not correctly inputted"
   ]
  },
  {
   "cell_type": "code",
   "execution_count": 47,
   "id": "1bfb19c0",
   "metadata": {},
   "outputs": [
    {
     "data": {
      "text/plain": [
       "374264"
      ]
     },
     "execution_count": 47,
     "metadata": {},
     "output_type": "execute_result"
    }
   ],
   "source": [
    "LoL_players_data = LoL_players_data.dropna(axis=0)\n",
    "LoL_players_data['game_id'].count()"
   ]
  },
  {
   "cell_type": "code",
   "execution_count": 48,
   "id": "89ea0744",
   "metadata": {},
   "outputs": [],
   "source": [
    "y = LoL_players_data['win']\n",
    "LoL_players_data = LoL_players_data.drop(columns=['win'])"
   ]
  },
  {
   "cell_type": "code",
   "execution_count": 49,
   "id": "28023ee2",
   "metadata": {},
   "outputs": [
    {
     "name": "stdout",
     "output_type": "stream",
     "text": [
      "(374264, 22)\n"
     ]
    },
    {
     "data": {
      "text/html": [
       "<div>\n",
       "<style scoped>\n",
       "    .dataframe tbody tr th:only-of-type {\n",
       "        vertical-align: middle;\n",
       "    }\n",
       "\n",
       "    .dataframe tbody tr th {\n",
       "        vertical-align: top;\n",
       "    }\n",
       "\n",
       "    .dataframe thead th {\n",
       "        text-align: right;\n",
       "    }\n",
       "</style>\n",
       "<table border=\"1\" class=\"dataframe\">\n",
       "  <thead>\n",
       "    <tr style=\"text-align: right;\">\n",
       "      <th></th>\n",
       "      <th>player_id</th>\n",
       "      <th>team_id</th>\n",
       "      <th>role</th>\n",
       "      <th>champion_name</th>\n",
       "      <th>team_kills</th>\n",
       "      <th>tower_kills</th>\n",
       "      <th>inhibitor_kills</th>\n",
       "      <th>dragon_kills</th>\n",
       "      <th>herald_kills</th>\n",
       "      <th>baron_kills</th>\n",
       "      <th>...</th>\n",
       "      <th>player_assists</th>\n",
       "      <th>total_minions_killed</th>\n",
       "      <th>gold_earned</th>\n",
       "      <th>level</th>\n",
       "      <th>total_damage_dealt</th>\n",
       "      <th>total_damage_dealt_to_champions</th>\n",
       "      <th>total_damage_taken</th>\n",
       "      <th>wards_placed</th>\n",
       "      <th>largest_killing_spree</th>\n",
       "      <th>largest_multi_kill</th>\n",
       "    </tr>\n",
       "  </thead>\n",
       "  <tbody>\n",
       "    <tr>\n",
       "      <th>0</th>\n",
       "      <td>0</td>\n",
       "      <td>0</td>\n",
       "      <td>Top</td>\n",
       "      <td>Irelia</td>\n",
       "      <td>7</td>\n",
       "      <td>3</td>\n",
       "      <td>0</td>\n",
       "      <td>0</td>\n",
       "      <td>0</td>\n",
       "      <td>0</td>\n",
       "      <td>...</td>\n",
       "      <td>1</td>\n",
       "      <td>179</td>\n",
       "      <td>8530</td>\n",
       "      <td>12</td>\n",
       "      <td>99007</td>\n",
       "      <td>7923</td>\n",
       "      <td>15326</td>\n",
       "      <td>8</td>\n",
       "      <td>0</td>\n",
       "      <td>1</td>\n",
       "    </tr>\n",
       "    <tr>\n",
       "      <th>1</th>\n",
       "      <td>1</td>\n",
       "      <td>1</td>\n",
       "      <td>Top</td>\n",
       "      <td>Vladimir</td>\n",
       "      <td>17</td>\n",
       "      <td>8</td>\n",
       "      <td>1</td>\n",
       "      <td>3</td>\n",
       "      <td>1</td>\n",
       "      <td>1</td>\n",
       "      <td>...</td>\n",
       "      <td>6</td>\n",
       "      <td>174</td>\n",
       "      <td>8565</td>\n",
       "      <td>14</td>\n",
       "      <td>100342</td>\n",
       "      <td>10857</td>\n",
       "      <td>16475</td>\n",
       "      <td>11</td>\n",
       "      <td>2</td>\n",
       "      <td>1</td>\n",
       "    </tr>\n",
       "    <tr>\n",
       "      <th>2</th>\n",
       "      <td>2</td>\n",
       "      <td>0</td>\n",
       "      <td>Bot</td>\n",
       "      <td>Kai'Sa</td>\n",
       "      <td>7</td>\n",
       "      <td>3</td>\n",
       "      <td>0</td>\n",
       "      <td>0</td>\n",
       "      <td>0</td>\n",
       "      <td>0</td>\n",
       "      <td>...</td>\n",
       "      <td>1</td>\n",
       "      <td>227</td>\n",
       "      <td>9613</td>\n",
       "      <td>12</td>\n",
       "      <td>116407</td>\n",
       "      <td>7011</td>\n",
       "      <td>5788</td>\n",
       "      <td>9</td>\n",
       "      <td>0</td>\n",
       "      <td>1</td>\n",
       "    </tr>\n",
       "    <tr>\n",
       "      <th>3</th>\n",
       "      <td>3</td>\n",
       "      <td>0</td>\n",
       "      <td>Support</td>\n",
       "      <td>Lux</td>\n",
       "      <td>7</td>\n",
       "      <td>3</td>\n",
       "      <td>0</td>\n",
       "      <td>0</td>\n",
       "      <td>0</td>\n",
       "      <td>0</td>\n",
       "      <td>...</td>\n",
       "      <td>2</td>\n",
       "      <td>19</td>\n",
       "      <td>5442</td>\n",
       "      <td>10</td>\n",
       "      <td>23555</td>\n",
       "      <td>4932</td>\n",
       "      <td>6151</td>\n",
       "      <td>25</td>\n",
       "      <td>0</td>\n",
       "      <td>0</td>\n",
       "    </tr>\n",
       "    <tr>\n",
       "      <th>4</th>\n",
       "      <td>4</td>\n",
       "      <td>1</td>\n",
       "      <td>Mid</td>\n",
       "      <td>Aatrox</td>\n",
       "      <td>17</td>\n",
       "      <td>8</td>\n",
       "      <td>1</td>\n",
       "      <td>3</td>\n",
       "      <td>1</td>\n",
       "      <td>1</td>\n",
       "      <td>...</td>\n",
       "      <td>4</td>\n",
       "      <td>188</td>\n",
       "      <td>10125</td>\n",
       "      <td>14</td>\n",
       "      <td>125022</td>\n",
       "      <td>10749</td>\n",
       "      <td>15481</td>\n",
       "      <td>10</td>\n",
       "      <td>3</td>\n",
       "      <td>2</td>\n",
       "    </tr>\n",
       "  </tbody>\n",
       "</table>\n",
       "<p>5 rows × 22 columns</p>\n",
       "</div>"
      ],
      "text/plain": [
       "   player_id  team_id     role champion_name  team_kills  tower_kills  \\\n",
       "0          0        0      Top        Irelia           7            3   \n",
       "1          1        1      Top      Vladimir          17            8   \n",
       "2          2        0      Bot        Kai'Sa           7            3   \n",
       "3          3        0  Support           Lux           7            3   \n",
       "4          4        1      Mid        Aatrox          17            8   \n",
       "\n",
       "   inhibitor_kills  dragon_kills  herald_kills  baron_kills  ...  \\\n",
       "0                0             0             0            0  ...   \n",
       "1                1             3             1            1  ...   \n",
       "2                0             0             0            0  ...   \n",
       "3                0             0             0            0  ...   \n",
       "4                1             3             1            1  ...   \n",
       "\n",
       "   player_assists  total_minions_killed  gold_earned  level  \\\n",
       "0               1                   179         8530     12   \n",
       "1               6                   174         8565     14   \n",
       "2               1                   227         9613     12   \n",
       "3               2                    19         5442     10   \n",
       "4               4                   188        10125     14   \n",
       "\n",
       "   total_damage_dealt  total_damage_dealt_to_champions  total_damage_taken  \\\n",
       "0               99007                             7923               15326   \n",
       "1              100342                            10857               16475   \n",
       "2              116407                             7011                5788   \n",
       "3               23555                             4932                6151   \n",
       "4              125022                            10749               15481   \n",
       "\n",
       "   wards_placed  largest_killing_spree  largest_multi_kill  \n",
       "0             8                      0                   1  \n",
       "1            11                      2                   1  \n",
       "2             9                      0                   1  \n",
       "3            25                      0                   0  \n",
       "4            10                      3                   2  \n",
       "\n",
       "[5 rows x 22 columns]"
      ]
     },
     "execution_count": 49,
     "metadata": {},
     "output_type": "execute_result"
    }
   ],
   "source": [
    "features = ['player_id','team_id','role','champion_name','team_kills','tower_kills','inhibitor_kills',\n",
    "            'dragon_kills','herald_kills','baron_kills','player_kills','player_deaths',\n",
    "            'player_assists','total_minions_killed','gold_earned','level','total_damage_dealt',\n",
    "            'total_damage_dealt_to_champions','total_damage_taken','wards_placed',\n",
    "            'largest_killing_spree','largest_multi_kill']\n",
    "X = LoL_players_data[features]\n",
    "print(X.shape)\n",
    "X.head(5)\n"
   ]
  },
  {
   "cell_type": "markdown",
   "id": "766a8501",
   "metadata": {},
   "source": [
    "Split the dataset"
   ]
  },
  {
   "cell_type": "code",
   "execution_count": 50,
   "id": "6ccd58df",
   "metadata": {},
   "outputs": [],
   "source": [
    "from sklearn.model_selection import train_test_split\n",
    "X_train, X_valid, y_train, y_valid = train_test_split(X, y, random_state = 0)"
   ]
  },
  {
   "cell_type": "markdown",
   "id": "9133a44b",
   "metadata": {},
   "source": [
    "Function to evaluate the model"
   ]
  },
  {
   "cell_type": "code",
   "execution_count": 54,
   "id": "b2a77310",
   "metadata": {},
   "outputs": [],
   "source": [
    "from sklearn.ensemble import RandomForestClassifier\n",
    "from sklearn.metrics import accuracy_score\n",
    "\n",
    "# Function for comparing different approaches\n",
    "def score_dataset(X_train, X_valid, y_train, y_valid):\n",
    "    model = RandomForestClassifier(n_estimators=100, random_state=0)\n",
    "    model.fit(X_train, y_train)\n",
    "    preds = model.predict(X_valid)\n",
    "    return accuracy_score(y_valid, preds)"
   ]
  },
  {
   "cell_type": "markdown",
   "id": "b95fda35",
   "metadata": {},
   "source": [
    "One-hot encoding to change str valures to numerical values"
   ]
  },
  {
   "cell_type": "code",
   "execution_count": 56,
   "id": "bfa5586c",
   "metadata": {},
   "outputs": [
    {
     "name": "stdout",
     "output_type": "stream",
     "text": [
      "Categorical variables:\n",
      "['role', 'champion_name']\n",
      "Accuracy from Approach 3 (One-Hot Encoding):\n",
      "0.9768826283051536\n"
     ]
    }
   ],
   "source": [
    "from sklearn.preprocessing import OneHotEncoder\n",
    "\n",
    "# Get list of categorical variables\n",
    "s = (X_train.dtypes == 'object')\n",
    "object_cols = list(s[s].index)\n",
    "\n",
    "print(\"Categorical variables:\")\n",
    "print(object_cols)\n",
    "\n",
    "# Apply one-hot encoder to each column with categorical data\n",
    "OH_encoder = OneHotEncoder(handle_unknown='ignore', sparse_output=False)\n",
    "OH_cols_train = pd.DataFrame(OH_encoder.fit_transform(X_train[object_cols]))\n",
    "OH_cols_valid = pd.DataFrame(OH_encoder.transform(X_valid[object_cols]))\n",
    "\n",
    "# One-hot encoding removed index; put it back\n",
    "OH_cols_train.index = X_train.index\n",
    "OH_cols_valid.index = X_valid.index\n",
    "\n",
    "# Remove categorical columns (will replace with one-hot encoding)\n",
    "num_X_train = X_train.drop(object_cols, axis=1)\n",
    "num_X_valid = X_valid.drop(object_cols, axis=1)\n",
    "\n",
    "# Add one-hot encoded columns to numerical features\n",
    "OH_X_train = pd.concat([num_X_train, OH_cols_train], axis=1)\n",
    "OH_X_valid = pd.concat([num_X_valid, OH_cols_valid], axis=1)\n",
    "\n",
    "# Ensure all columns have string type\n",
    "OH_X_train.columns = OH_X_train.columns.astype(str)\n",
    "OH_X_valid.columns = OH_X_valid.columns.astype(str)\n",
    "\n",
    "print(\"Accuracy from Approach 3 (One-Hot Encoding):\")\n",
    "print(score_dataset(OH_X_train, OH_X_valid, y_train, y_valid))"
   ]
  },
  {
   "cell_type": "markdown",
   "id": "0d7a2163",
   "metadata": {},
   "source": [
    "First model"
   ]
  },
  {
   "cell_type": "code",
   "execution_count": null,
   "id": "6ab1466d",
   "metadata": {},
   "outputs": [],
   "source": [
    "\n",
    "\n"
   ]
  }
 ],
 "metadata": {
  "kernelspec": {
   "display_name": "Python 3",
   "language": "python",
   "name": "python3"
  },
  "language_info": {
   "codemirror_mode": {
    "name": "ipython",
    "version": 3
   },
   "file_extension": ".py",
   "mimetype": "text/x-python",
   "name": "python",
   "nbconvert_exporter": "python",
   "pygments_lexer": "ipython3",
   "version": "3.12.0"
  }
 },
 "nbformat": 4,
 "nbformat_minor": 5
}
